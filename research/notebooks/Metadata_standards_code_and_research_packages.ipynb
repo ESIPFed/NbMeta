{
 "cells": [
  {
   "cell_type": "markdown",
   "metadata": {},
   "source": [
    "# Metadata for Jupyter Notebooks and their research packages\n",
    "\n",
    "As Jupyter Notebooks give the creator the ability to describe code in prescripted ways; not just for how it works by why it does the work, they provide a unique opportunity to create metadata, not just for discovery and access, but use and understanding of scientific research packages. Therefore we think that notebook metadata should be explored and groundwork laid for automatic generation of metadata to discover and understand valuable notebooks that contain reusable parts. This is a unique opportunity to take current research trends and accelerate the science of every discipline.\n",
    "\n",
    "### Similar efforts\n",
    "\n",
    "Similar work has been done for algorithms in computer science such as AlgorithmSeer, which attempts to automate the extraction metadata from scientific literature containing algorithms, to provide a searchable interface like CiteSeerX, and manually curated efforts such as Rosetta Code or the crowd sourced StackOverflow attempt to provide searchable interfaces to gists of code for a specific problem. \n",
    "\n",
    "* AlgorithmSeer: https://clgiles.ist.psu.edu/pubs/IEEET-big-data-algorithm.pdf\n",
    "* CiteSeerX: http://citeseerx.ist.psu.edu/index\n",
    "* StackOverflow: https://stackoverflow.com/\n",
    "* Rosetta Code: http://www.rosettacode.org/wiki/Rosetta_Code\n",
    "* Another project called nbmeta: https://github.com/westurner/nbmeta\n",
    "* codemetar: https://codemeta.github.io/codemetar/\n",
    "\n",
    "### Community standards and practices\n",
    "\n",
    "There are a wealth of earlier efforts to draw from to help direct our efforts to describe NbMeta\n",
    "\n",
    "* Github: https://github.com/\n",
    "  * https://help.github.com/articles/repository-metadata-on-github-pages/\n",
    "* codemeta: https://codemeta.github.io/\n",
    "  * https://codemeta.github.io/terms/\n",
    "  * https://codemeta.github.io/jsonld/\n",
    "  * https://github.com/ropensci/codemetar/blob/master/codemeta.json\n",
    "* zenodo: https://zenodo.org/\n",
    "  * https://zenodo.org/schemas/records/record-v1.0.0.json\n",
    "  * http://about.zenodo.org/principles/\n",
    "* ESIP software citation: http://wiki.esipfed.org/index.php/Software_and_Services_Citations\n",
    "* FORCE11 software citation principles: https://www.force11.org/software-citation-principles\n",
    "* schema.org: https://schema.org\n",
    "  * https://schema.org/SoftwareApplication\n",
    "* Google: https://google.com/\n",
    "  * https://developers.google.com/search/docs/data-types/software-app\n",
    "\n",
    "### Extractable metadata from Github and ipynb\n",
    "\n",
    "As Mark Woodbridge et al encourage authors to do when notebooks rely on additional files to execute, we start at the entire research package rather than the notebook level as the results are less immediately usable and most notebooks at least have a dataset to operate on and would thus need the rest of the package documented as well for the record to be most useful. (https://markwoodbridge.com/2017/03/05/jupyter-reproducible-science.html) \n",
    "\n",
    "Github is one of the most popular places to package data driven scientific research, so it makes sense to start scraping repositories with notebooks, and delving into the json of each notebook contained to try and mine all of the needed metadata to make an NbMeta record.  \n",
    "\n",
    "* current extract\n",
    "\n",
    "mongo db record for a notebook\n",
    "\n",
    "json?"
   ]
  },
  {
   "cell_type": "raw",
   "metadata": {},
   "source": []
  },
  {
   "cell_type": "markdown",
   "metadata": {},
   "source": [
    "### Templates for use cases\n",
    "\n",
    "* essential NbMeta concepts\n",
    "* use and understanding \n",
    "\n",
    "Overwhelmingly, these efforts utilize JSON, and as an .ipynb file is just JSON, it makes sense to create NbMeta records to share outside of a database in JSON, perhaps as a part of the notebook json \n",
    "\n",
    "Since we want to be able to link these notebooks with the datasets, environments, and publications that are a part of the scientific output of researchers, JSON-LD and schema.org are a superior documentation file format and file structure to employ. \n",
    "\n",
    "This will allow us the flexibility to extract directly from .ipynb as well, and eventually inject the cooresponding JSON-LD directly into the cell and file metadata dictionaries(verify). With a workflow like this, we'd be able to work towards something native to Jupyter that can automatically create metadata for a Notebook and immediately be able to provide search engines like Google or Baidu with the ability to return rich results to their users. \n",
    "\n",
    "If we provide similar results to the codemetar JSON-LD, we'd likely be able to begin to incorporate other types of Notebook interfaces outside of the Jupyter ecosystem that would work inside of it. \n",
    "\n",
    "#### Essential metadata example record\n"
   ]
  },
  {
   "cell_type": "markdown",
   "metadata": {},
   "source": []
  },
  {
   "cell_type": "markdown",
   "metadata": {},
   "source": [
    "#### Metadata for use and understanding example record"
   ]
  },
  {
   "cell_type": "code",
   "execution_count": null,
   "metadata": {},
   "outputs": [],
   "source": []
  },
  {
   "cell_type": "code",
   "execution_count": null,
   "metadata": {},
   "outputs": [],
   "source": []
  }
 ],
 "metadata": {
  "kernelspec": {
   "display_name": "Python 3",
   "language": "python",
   "name": "python3"
  },
  "language_info": {
   "codemirror_mode": {
    "name": "ipython",
    "version": 3
   },
   "file_extension": ".py",
   "mimetype": "text/x-python",
   "name": "python",
   "nbconvert_exporter": "python",
   "pygments_lexer": "ipython3",
   "version": "3.6.6"
  }
 },
 "nbformat": 4,
 "nbformat_minor": 2
}
