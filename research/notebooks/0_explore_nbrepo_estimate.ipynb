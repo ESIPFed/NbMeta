{
 "cells": [
  {
   "cell_type": "markdown",
   "metadata": {},
   "source": [
    "# THE NUMBER OF JUPYTER NOTEBOOK REPOS ON GITHUB\n",
    "\n",
    "**Keith E. Maull<sup>^1</sup>**\n",
    "\n",
    "September 17, 2017\n",
    "\n",
    "1. NCAR Library, National Center for Atmospheric Research"
   ]
  },
  {
   "cell_type": "markdown",
   "metadata": {},
   "source": [
    "## SUMMARY\n",
    "Inspired by [NBEstimate](https://github.com/parente/nbestimate) which tracks the number of `.ipynb` files on Github, we want to explore **the number of Jupyter Notebook _repos_**, as we feel that is also a useful estimate of the total *usage* of notebook technology across a wide spectrum of activities.  This code may push the [rate limits](https://developer.github.com/v3/#rate-limiting) of the API, so please put the token in `gh_auth_token.txt` for best reproducibility results."
   ]
  },
  {
   "cell_type": "markdown",
   "metadata": {},
   "source": [
    "### EXPLORATION"
   ]
  },
  {
   "cell_type": "code",
   "execution_count": 1,
   "metadata": {},
   "outputs": [],
   "source": [
    "# NOTE: make sure you put your API auth token in gh_auth_token.txt\n",
    "with open('gh_auth_token.txt'\n",
    "         ) as fi:\n",
    "    GH_AUTH_TOKEN = fi.readlines()[0].strip()"
   ]
  },
  {
   "cell_type": "code",
   "execution_count": 2,
   "metadata": {},
   "outputs": [],
   "source": [
    "# core imports\n",
    "%matplotlib inline \n",
    "import pprint\n",
    "import time \n",
    "import requests\n",
    "import pandas as pd"
   ]
  },
  {
   "cell_type": "markdown",
   "metadata": {},
   "source": [
    "### PRELIMINARIES\n",
    "Lets warm up to the API and get the number of repos that are *public* and claim to have *Jupyter Notebooks* in them."
   ]
  },
  {
   "cell_type": "code",
   "execution_count": 3,
   "metadata": {},
   "outputs": [],
   "source": [
    "def gh_api(url):\n",
    "    headers = {'Authorization': GH_AUTH_TOKEN}\n",
    "    r = requests.get(url, headers=headers)\n",
    "\n",
    "    if r.status_code == 200:\n",
    "        data = r.json() # dict_keys(['total_count', 'incomplete_results', 'items'])\n",
    "        return data\n",
    "    else:\n",
    "        print(\"E:{}/{}\".format(r.status_code, r.content))"
   ]
  },
  {
   "cell_type": "code",
   "execution_count": 4,
   "metadata": {},
   "outputs": [],
   "source": [
    "data = gh_api('https://api.github.com/search/repositories?q=language:\"Jupyter Notebook\"+is:public')"
   ]
  },
  {
   "cell_type": "code",
   "execution_count": 5,
   "metadata": {},
   "outputs": [
    {
     "data": {
      "text/plain": [
       "397027"
      ]
     },
     "execution_count": 5,
     "metadata": {},
     "output_type": "execute_result"
    }
   ],
   "source": [
    "data['total_count'] # total repos at time notebook run (e.g. 397027 on 9/17/2018)"
   ]
  },
  {
   "cell_type": "markdown",
   "metadata": {},
   "source": [
    "### COUNTS"
   ]
  },
  {
   "cell_type": "code",
   "execution_count": 6,
   "metadata": {},
   "outputs": [
    {
     "name": "stdout",
     "output_type": "stream",
     "text": [
      "2008.2009.2010.2011.2012.2013.2014.2015.2016.2017.2018."
     ]
    }
   ],
   "source": [
    "repo_data = {}\n",
    "for y in range(2008,2019):\n",
    "    resp = gh_api(\n",
    "        'https://api.github.com/search/repositories?q=language:\"Jupyter Notebook\"+is:public+created:{}-01-01..{}-01-01'\n",
    "        .format(y, y+1)\n",
    "    )\n",
    "    if resp:\n",
    "        repo_data[y] = resp['total_count']\n",
    "        print(y, end='.')\n"
   ]
  },
  {
   "cell_type": "code",
   "execution_count": 7,
   "metadata": {},
   "outputs": [],
   "source": [
    "df = pd.DataFrame.from_dict(repo_data, orient='index', columns=['count'])\n",
    "#df = df.rename({0: 'gh_ipynb_repo_count'}, axis='columns')"
   ]
  },
  {
   "cell_type": "code",
   "execution_count": 8,
   "metadata": {},
   "outputs": [
    {
     "data": {
      "text/html": [
       "<div>\n",
       "<style scoped>\n",
       "    .dataframe tbody tr th:only-of-type {\n",
       "        vertical-align: middle;\n",
       "    }\n",
       "\n",
       "    .dataframe tbody tr th {\n",
       "        vertical-align: top;\n",
       "    }\n",
       "\n",
       "    .dataframe thead th {\n",
       "        text-align: right;\n",
       "    }\n",
       "</style>\n",
       "<table border=\"1\" class=\"dataframe\">\n",
       "  <thead>\n",
       "    <tr style=\"text-align: right;\">\n",
       "      <th></th>\n",
       "      <th>count</th>\n",
       "    </tr>\n",
       "  </thead>\n",
       "  <tbody>\n",
       "    <tr>\n",
       "      <th>2008</th>\n",
       "      <td>2</td>\n",
       "    </tr>\n",
       "    <tr>\n",
       "      <th>2009</th>\n",
       "      <td>1</td>\n",
       "    </tr>\n",
       "    <tr>\n",
       "      <th>2010</th>\n",
       "      <td>8</td>\n",
       "    </tr>\n",
       "    <tr>\n",
       "      <th>2011</th>\n",
       "      <td>51</td>\n",
       "    </tr>\n",
       "    <tr>\n",
       "      <th>2012</th>\n",
       "      <td>163</td>\n",
       "    </tr>\n",
       "    <tr>\n",
       "      <th>2013</th>\n",
       "      <td>568</td>\n",
       "    </tr>\n",
       "    <tr>\n",
       "      <th>2014</th>\n",
       "      <td>1840</td>\n",
       "    </tr>\n",
       "    <tr>\n",
       "      <th>2015</th>\n",
       "      <td>8292</td>\n",
       "    </tr>\n",
       "    <tr>\n",
       "      <th>2016</th>\n",
       "      <td>54845</td>\n",
       "    </tr>\n",
       "    <tr>\n",
       "      <th>2017</th>\n",
       "      <td>143618</td>\n",
       "    </tr>\n",
       "    <tr>\n",
       "      <th>2018</th>\n",
       "      <td>189758</td>\n",
       "    </tr>\n",
       "  </tbody>\n",
       "</table>\n",
       "</div>"
      ],
      "text/plain": [
       "       count\n",
       "2008       2\n",
       "2009       1\n",
       "2010       8\n",
       "2011      51\n",
       "2012     163\n",
       "2013     568\n",
       "2014    1840\n",
       "2015    8292\n",
       "2016   54845\n",
       "2017  143618\n",
       "2018  189758"
      ]
     },
     "execution_count": 8,
     "metadata": {},
     "output_type": "execute_result"
    }
   ],
   "source": [
    "df"
   ]
  },
  {
   "cell_type": "code",
   "execution_count": 9,
   "metadata": {},
   "outputs": [
    {
     "data": {
      "image/png": "[encoded data removed]",
      "text/plain": [
       "<Figure size 432x288 with 1 Axes>"
      ]
     },
     "metadata": {},
     "output_type": "display_data"
    }
   ],
   "source": [
    "ax = df.plot(style='-o', color='blue')\n",
    "\n",
    "for i, v in df.iterrows():\n",
    "    ax.annotate(v['count'], (i,v),\n",
    "                xytext=(5,8), textcoords='offset points',\n",
    "                family='sans-serif', fontsize=9, color='black')"
   ]
  },
  {
   "cell_type": "markdown",
   "metadata": {},
   "source": [
    "# OUTCOMES AND DISCUSSION\n",
    "Clearly there is  a dramatic uptick in the number of Jupyter Notebook repos, especially since 2015, when there was a 600% increase from 2015-2015!"
   ]
  }
 ],
 "metadata": {
  "kernelspec": {
   "display_name": "Python 3",
   "language": "python",
   "name": "python3"
  },
  "language_info": {
   "codemirror_mode": {
    "name": "ipython",
    "version": 3
   },
   "file_extension": ".py",
   "mimetype": "text/x-python",
   "name": "python",
   "nbconvert_exporter": "python",
   "pygments_lexer": "ipython3",
   "version": "3.6.5"
  }
 },
 "nbformat": 4,
 "nbformat_minor": 2
}
